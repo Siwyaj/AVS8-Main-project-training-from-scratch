{
 "cells": [
  {
   "cell_type": "code",
   "execution_count": 2,
   "metadata": {},
   "outputs": [],
   "source": [
    "#imports\n",
    "#\n",
    "import os\n",
    "#os.environ['FLUIDSYNTH_LIB'] = r'C:\\tools\\fluidsynth\\bin\\libfluidsynth-3.dll'\n",
    "#installs\n",
    "def installs():\n",
    "    !pip install numpy\n",
    "    !pip install h5py\n",
    "    !pip install librosa\n",
    "    !pip install mido\n",
    "    !pip install note_seq\n",
    "    !pip install pretty_midi\n",
    "    !pip install matplotlib\n",
    "\n",
    "#installs()\n",
    "\n",
    "# imports\n",
    "import numpy as np\n",
    "import h5py # for HDF5 file handling\n",
    "#!pip install librosa\n",
    "import librosa # for audio processing\n",
    "import mido # for MIDI file processing\n",
    "import DataLoadingConfig as config\n",
    "#!pip install note_seq\n",
    "import note_seq\n",
    "#!pip install pretty_midi\n",
    "import pretty_midi\n",
    "import matplotlib.pyplot as plt\n",
    "import csv"
   ]
  },
  {
   "cell_type": "code",
   "execution_count": null,
   "metadata": {},
   "outputs": [
    {
     "name": "stdout",
     "output_type": "stream",
     "text": [
      "1277\n"
     ]
    },
    {
     "ename": "AttributeError",
     "evalue": "'list' object has no attribute 'split'",
     "output_type": "error",
     "traceback": [
      "\u001b[31m---------------------------------------------------------------------------\u001b[39m",
      "\u001b[31mAttributeError\u001b[39m                            Traceback (most recent call last)",
      "\u001b[36mCell\u001b[39m\u001b[36m \u001b[39m\u001b[32mIn[71]\u001b[39m\u001b[32m, line 28\u001b[39m\n\u001b[32m     26\u001b[39m \u001b[38;5;28;01mwith\u001b[39;00m h5py.File(hdf5_path, \u001b[33m'\u001b[39m\u001b[33mw\u001b[39m\u001b[33m'\u001b[39m) \u001b[38;5;28;01mas\u001b[39;00m f:\n\u001b[32m     27\u001b[39m     \u001b[38;5;28;01mfor\u001b[39;00m file \u001b[38;5;129;01min\u001b[39;00m \u001b[38;5;28mrange\u001b[39m(\u001b[32m1\u001b[39m,csv_lines_count):\n\u001b[32m---> \u001b[39m\u001b[32m28\u001b[39m         csv_line_split = \u001b[43mcsv_lines\u001b[49m\u001b[43m[\u001b[49m\u001b[43mfile\u001b[49m\u001b[43m]\u001b[49m\u001b[43m.\u001b[49m\u001b[43msplit\u001b[49m(\u001b[33m'\u001b[39m\u001b[33m,\u001b[39m\u001b[33m'\u001b[39m)\n\u001b[32m     29\u001b[39m         \u001b[38;5;28mprint\u001b[39m(csv_line_split)\n\u001b[32m     30\u001b[39m         \u001b[38;5;66;03m#0 = canonical_composer\u001b[39;00m\n\u001b[32m     31\u001b[39m         \u001b[38;5;66;03m#1 = canonical_title\u001b[39;00m\n\u001b[32m     32\u001b[39m         \u001b[38;5;66;03m#2 = split\u001b[39;00m\n\u001b[32m   (...)\u001b[39m\u001b[32m     35\u001b[39m         \u001b[38;5;66;03m#5 = audio_filename\u001b[39;00m\n\u001b[32m     36\u001b[39m         \u001b[38;5;66;03m#6 = duration\u001b[39;00m\n",
      "\u001b[31mAttributeError\u001b[39m: 'list' object has no attribute 'split'"
     ]
    }
   ],
   "source": [
    "#get path to the dataset\n",
    "\n",
    "maestro_dataset_path = os.path.join('..', 'maestro-v3.0.0')\n",
    "maestro_CSV_path = os.path.join(maestro_dataset_path, 'maestro-v3.0.0.csv')\n",
    "hdf5_path = os.path.join('maestro-v3.0.0-hdf5.hdf5')\n",
    "#delete the HDF5 file if it already exists\n",
    "if os.path.exists(hdf5_path):\n",
    "    os.remove(hdf5_path)\n",
    "\n",
    "#convert dataset to HDF5\n",
    "\n",
    "#read CSV for line count and path\n",
    "#with open(maestro_CSV_path, 'r', encoding='utf-8') as csv_file:\n",
    "#    csv_lines = csv_file.readlines()\n",
    "\n",
    "with open(maestro_CSV_path, 'r', encoding='utf-8') as csv_file:\n",
    "    csv_reader = csv.reader(csv_file)  # Automatically handles quoted values\n",
    "    csv_lines = list(csv_reader)\n",
    "    print(len(csv_lines))\n",
    "\n",
    "    for row in csv_reader:\n",
    "        print(row)  # Now quoted values stay intact\n",
    "\n",
    "csv_lines_count = len(csv_lines)\n",
    "\n",
    "with h5py.File(hdf5_path, 'w') as f:\n",
    "    for file in range(1,csv_lines_count):\n",
    "        csv_line_split = csv_lines[file]\n",
    "        #print(csv_line_split)\n",
    "        #0 = canonical_composer\n",
    "        #1 = canonical_title\n",
    "        #2 = split\n",
    "        #3 = year\n",
    "        #4 = midi_filename\n",
    "        #5 = audio_filename\n",
    "        #6 = duration\n",
    "        year = csv_line_split[3]\n",
    "\n",
    "        if year not in f:\n",
    "            year_group = f.create_group(year)\n",
    "        else:\n",
    "            year_group = f[year]\n",
    "\n",
    "        midi_path = os.path.join(maestro_dataset_path, csv_line_split[4])\n",
    "        audio_path = os.path.join(maestro_dataset_path, csv_line_split[5])\n",
    "\n",
    "        print(\"csv_midi_path:\", csv_line_split[4])\n",
    "        only_midi_name = csv_line_split[4].split('/')[-1]\n",
    "        print(\"currently working on:\", only_midi_name, \"counter:\", file)\n",
    "        midi_group = year_group.create_group(only_midi_name)\n",
    "\n",
    "        #store as HDF5\n",
    "        #group = f.create_group(csv_line_split[4])\n",
    "        #print(f\"Creating group: {csv_line_split[4]}\")\n",
    "        #print(group)\n",
    "        midi_group.create_dataset('midi_path', data=midi_path)\n",
    "        midi_group.create_dataset('audio_path', data=audio_path)\n",
    "        midi_group.create_dataset('composer', data=csv_line_split[0], dtype=h5py.string_dtype())\n",
    "        #print(f\"Storing composer: {csv_line_split[0]}\")\n",
    "        midi_group.create_dataset('title', data=csv_line_split[1], dtype=h5py.string_dtype())\n",
    "        midi_group.create_dataset('split', data=csv_line_split[2], dtype=h5py.string_dtype())\n",
    "        midi_group.create_dataset('year', data=csv_line_split[3], dtype=h5py.string_dtype())\n",
    "        midi_group.create_dataset('duration', data=csv_line_split[6], dtype=h5py.string_dtype())\n",
    "        #print(\"HDF5 Groups:\", list(f.keys()))\n",
    "        #for year in f.keys():\n",
    "            #for midi_group in f[year]:\n",
    "                #print(f\"Year: {year}, MIDI Group: {midi_group}\")\n",
    "                #print(\"midi_group keys:\", list(f[year][midi_group].keys()))\n",
    "    csv_file.close()\n",
    "    f.close()\n"
   ]
  },
  {
   "cell_type": "code",
   "execution_count": 53,
   "metadata": {},
   "outputs": [
    {
     "name": "stdout",
     "output_type": "stream",
     "text": [
      "year: 2018\n",
      "keys in year <KeysViewHDF5 ['MIDI-Unprocessed_Chamber3_MID--AUDIO_10_R3_2018_wav--1.midi']>\n",
      "keys in midi group ['audio_path', 'composer', 'duration', 'midi_path', 'split', 'title', 'year']\n",
      "midi file key MIDI-Unprocessed_Chamber3_MID--AUDIO_10_R3_2018_wav--1.midi\n",
      "b'Alban Berg'\n",
      "b'Sonata Op. 1'\n",
      "b'train'\n",
      "b'2018'\n",
      "b'698.661160312\\n'\n",
      "b'..\\\\maestro-v3.0.0\\\\2018/MIDI-Unprocessed_Chamber3_MID--AUDIO_10_R3_2018_wav--1.midi'\n",
      "b'..\\\\maestro-v3.0.0\\\\2018/MIDI-Unprocessed_Chamber3_MID--AUDIO_10_R3_2018_wav--1.wav'\n"
     ]
    }
   ],
   "source": [
    "#read first file from HDF5\n",
    "with h5py.File(hdf5_path, 'r') as f:\n",
    "    for year in f.keys():\n",
    "        print(\"year:\", year)\n",
    "        print(\"keys in year\", f[year].keys())\n",
    "        for midi_group in f[year].keys():\n",
    "            print(\"keys in midi group\",list(f[year][midi_group].keys()))\n",
    "            print(\"midi file key\", midi_group)\n",
    "            #print(\"keys inside midi\", f[file].keys())\n",
    "            print(f[year][midi_group]['composer'][()])\n",
    "            print(f[year][midi_group]['title'][()])\n",
    "            print(f[year][midi_group]['split'][()])\n",
    "            print(f[year][midi_group]['year'][()])\n",
    "            print(f[year][midi_group]['duration'][()])\n",
    "            print(f[year][midi_group]['midi_path'][()])\n",
    "            print(f[year][midi_group]['audio_path'][()])\n",
    "    f.close()"
   ]
  }
 ],
 "metadata": {
  "kernelspec": {
   "display_name": "Python 3",
   "language": "python",
   "name": "python3"
  },
  "language_info": {
   "codemirror_mode": {
    "name": "ipython",
    "version": 3
   },
   "file_extension": ".py",
   "mimetype": "text/x-python",
   "name": "python",
   "nbconvert_exporter": "python",
   "pygments_lexer": "ipython3",
   "version": "3.12.7"
  }
 },
 "nbformat": 4,
 "nbformat_minor": 2
}
